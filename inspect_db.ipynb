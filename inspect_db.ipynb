{
 "cells": [
  {
   "cell_type": "code",
   "execution_count": 10,
   "metadata": {},
   "outputs": [
    {
     "name": "stdout",
     "output_type": "stream",
     "text": [
      "Tables in the database:\n"
     ]
    }
   ],
   "source": [
    "import sqlite3\n",
    "\n",
    "# Connect to the SQLite database\n",
    "conn = sqlite3.connect('chat_history.db')\n",
    "cursor = conn.cursor()\n",
    "\n",
    "# Execute a query to retrieve all table names\n",
    "cursor.execute(\"SELECT name FROM sqlite_master WHERE type='table';\")\n",
    "tables = cursor.fetchall()\n",
    "\n",
    "# Print the list of tables\n",
    "print(\"Tables in the database:\")\n",
    "for table in tables:\n",
    "    print(table[0])\n",
    "\n"
   ]
  },
  {
   "cell_type": "markdown",
   "metadata": {},
   "source": [
    "modal volume get db_data /chat_history.db .\n"
   ]
  },
  {
   "cell_type": "code",
   "execution_count": 8,
   "metadata": {},
   "outputs": [
    {
     "name": "stdout",
     "output_type": "stream",
     "text": [
      "   id                            session_id       role  \\\n",
      "0   1  1697206b-ce83-4ec1-9699-2c11d1f8d8c4       user   \n",
      "1   2  1697206b-ce83-4ec1-9699-2c11d1f8d8c4  assistant   \n",
      "2   3  3ce404f1-a5b9-4f84-8bb5-72c56fabc5b8       user   \n",
      "3   4  3ce404f1-a5b9-4f84-8bb5-72c56fabc5b8  assistant   \n",
      "4   5  7f774005-e00c-414d-a137-a367af22b0bb       user   \n",
      "\n",
      "                                             content  \n",
      "0     Hi there, I need some help please, checking db  \n",
      "1   Hello! What seems to be on your mind? Is ever...  \n",
      "2  I want to find a new job as a db engineer, but...  \n",
      "3   You might find that your feelings about your ...  \n",
      "4                                     my name is Bob  \n"
     ]
    }
   ],
   "source": [
    "import pandas as pd\n",
    "\n",
    "# Read the 'conversation' table into a pandas DataFrame\n",
    "df_conversation = pd.read_sql_query(\"SELECT * FROM conversation\", conn)\n",
    "\n",
    "# Display the first few rows of the DataFrame\n",
    "print(df_conversation.head())\n"
   ]
  },
  {
   "cell_type": "code",
   "execution_count": 9,
   "metadata": {},
   "outputs": [
    {
     "data": {
      "text/html": [
       "<div>\n",
       "<style scoped>\n",
       "    .dataframe tbody tr th:only-of-type {\n",
       "        vertical-align: middle;\n",
       "    }\n",
       "\n",
       "    .dataframe tbody tr th {\n",
       "        vertical-align: top;\n",
       "    }\n",
       "\n",
       "    .dataframe thead th {\n",
       "        text-align: right;\n",
       "    }\n",
       "</style>\n",
       "<table border=\"1\" class=\"dataframe\">\n",
       "  <thead>\n",
       "    <tr style=\"text-align: right;\">\n",
       "      <th></th>\n",
       "      <th>id</th>\n",
       "      <th>session_id</th>\n",
       "      <th>role</th>\n",
       "      <th>content</th>\n",
       "    </tr>\n",
       "  </thead>\n",
       "  <tbody>\n",
       "    <tr>\n",
       "      <th>0</th>\n",
       "      <td>1</td>\n",
       "      <td>1697206b-ce83-4ec1-9699-2c11d1f8d8c4</td>\n",
       "      <td>user</td>\n",
       "      <td>Hi there, I need some help please, checking db</td>\n",
       "    </tr>\n",
       "    <tr>\n",
       "      <th>1</th>\n",
       "      <td>2</td>\n",
       "      <td>1697206b-ce83-4ec1-9699-2c11d1f8d8c4</td>\n",
       "      <td>assistant</td>\n",
       "      <td>Hello! What seems to be on your mind? Is ever...</td>\n",
       "    </tr>\n",
       "    <tr>\n",
       "      <th>2</th>\n",
       "      <td>3</td>\n",
       "      <td>3ce404f1-a5b9-4f84-8bb5-72c56fabc5b8</td>\n",
       "      <td>user</td>\n",
       "      <td>I want to find a new job as a db engineer, but...</td>\n",
       "    </tr>\n",
       "    <tr>\n",
       "      <th>3</th>\n",
       "      <td>4</td>\n",
       "      <td>3ce404f1-a5b9-4f84-8bb5-72c56fabc5b8</td>\n",
       "      <td>assistant</td>\n",
       "      <td>You might find that your feelings about your ...</td>\n",
       "    </tr>\n",
       "    <tr>\n",
       "      <th>4</th>\n",
       "      <td>5</td>\n",
       "      <td>7f774005-e00c-414d-a137-a367af22b0bb</td>\n",
       "      <td>user</td>\n",
       "      <td>my name is Bob</td>\n",
       "    </tr>\n",
       "    <tr>\n",
       "      <th>5</th>\n",
       "      <td>6</td>\n",
       "      <td>7f774005-e00c-414d-a137-a367af22b0bb</td>\n",
       "      <td>assistant</td>\n",
       "      <td>Hello Bob! How can I assist you today?</td>\n",
       "    </tr>\n",
       "    <tr>\n",
       "      <th>6</th>\n",
       "      <td>7</td>\n",
       "      <td>92c92675-4809-4883-916e-49c600dcc38d</td>\n",
       "      <td>user</td>\n",
       "      <td>I fancy my teacher</td>\n",
       "    </tr>\n",
       "    <tr>\n",
       "      <th>7</th>\n",
       "      <td>8</td>\n",
       "      <td>92c92675-4809-4883-916e-49c600dcc38d</td>\n",
       "      <td>assistant</td>\n",
       "      <td>You're not alone in having feelings for someo...</td>\n",
       "    </tr>\n",
       "    <tr>\n",
       "      <th>8</th>\n",
       "      <td>9</td>\n",
       "      <td>6a68cb84-edb3-43b4-94f9-5428758b6135</td>\n",
       "      <td>user</td>\n",
       "      <td>what is my name?</td>\n",
       "    </tr>\n",
       "    <tr>\n",
       "      <th>9</th>\n",
       "      <td>10</td>\n",
       "      <td>6a68cb84-edb3-43b4-94f9-5428758b6135</td>\n",
       "      <td>assistant</td>\n",
       "      <td>I'm happy to help you explore your thoughts a...</td>\n",
       "    </tr>\n",
       "  </tbody>\n",
       "</table>\n",
       "</div>"
      ],
      "text/plain": [
       "   id                            session_id       role  \\\n",
       "0   1  1697206b-ce83-4ec1-9699-2c11d1f8d8c4       user   \n",
       "1   2  1697206b-ce83-4ec1-9699-2c11d1f8d8c4  assistant   \n",
       "2   3  3ce404f1-a5b9-4f84-8bb5-72c56fabc5b8       user   \n",
       "3   4  3ce404f1-a5b9-4f84-8bb5-72c56fabc5b8  assistant   \n",
       "4   5  7f774005-e00c-414d-a137-a367af22b0bb       user   \n",
       "5   6  7f774005-e00c-414d-a137-a367af22b0bb  assistant   \n",
       "6   7  92c92675-4809-4883-916e-49c600dcc38d       user   \n",
       "7   8  92c92675-4809-4883-916e-49c600dcc38d  assistant   \n",
       "8   9  6a68cb84-edb3-43b4-94f9-5428758b6135       user   \n",
       "9  10  6a68cb84-edb3-43b4-94f9-5428758b6135  assistant   \n",
       "\n",
       "                                             content  \n",
       "0     Hi there, I need some help please, checking db  \n",
       "1   Hello! What seems to be on your mind? Is ever...  \n",
       "2  I want to find a new job as a db engineer, but...  \n",
       "3   You might find that your feelings about your ...  \n",
       "4                                     my name is Bob  \n",
       "5             Hello Bob! How can I assist you today?  \n",
       "6                                 I fancy my teacher  \n",
       "7   You're not alone in having feelings for someo...  \n",
       "8                                   what is my name?  \n",
       "9   I'm happy to help you explore your thoughts a...  "
      ]
     },
     "execution_count": 9,
     "metadata": {},
     "output_type": "execute_result"
    }
   ],
   "source": [
    "df_conversation.tail(500)"
   ]
  },
  {
   "cell_type": "code",
   "execution_count": 8,
   "metadata": {},
   "outputs": [],
   "source": [
    "# (Optional) Close the cursor if you're done with it\n",
    "cursor.close()\n"
   ]
  },
  {
   "cell_type": "code",
   "execution_count": null,
   "metadata": {},
   "outputs": [],
   "source": []
  }
 ],
 "metadata": {
  "kernelspec": {
   "display_name": "mymodal",
   "language": "python",
   "name": "python3"
  },
  "language_info": {
   "codemirror_mode": {
    "name": "ipython",
    "version": 3
   },
   "file_extension": ".py",
   "mimetype": "text/x-python",
   "name": "python",
   "nbconvert_exporter": "python",
   "pygments_lexer": "ipython3",
   "version": "3.12.4"
  }
 },
 "nbformat": 4,
 "nbformat_minor": 2
}
