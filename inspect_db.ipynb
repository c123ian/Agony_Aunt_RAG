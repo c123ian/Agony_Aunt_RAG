{
 "cells": [
  {
   "cell_type": "code",
   "execution_count": 1,
   "metadata": {},
   "outputs": [
    {
     "name": "stdout",
     "output_type": "stream",
     "text": [
      "Tables in the database:\n",
      "conversation\n",
      "conversation_record\n",
      "<class 'AG.ConversationRecord'>\n",
      "conversation_history_T\n",
      "conversations_history_table_sqlalchemy\n"
     ]
    }
   ],
   "source": [
    "import sqlite3\n",
    "\n",
    "# Connect to the SQLite database\n",
    "conn = sqlite3.connect('data/chat_history.db')\n",
    "cursor = conn.cursor()\n",
    "\n",
    "# Execute a query to retrieve all table names\n",
    "cursor.execute(\"SELECT name FROM sqlite_master WHERE type='table';\")\n",
    "tables = cursor.fetchall()\n",
    "\n",
    "# Print the list of tables\n",
    "print(\"Tables in the database:\")\n",
    "for table in tables:\n",
    "    print(table[0])\n",
    "\n"
   ]
  },
  {
   "cell_type": "markdown",
   "metadata": {},
   "source": [
    "modal volume get db_data /chat_history.db . --force\n"
   ]
  },
  {
   "cell_type": "code",
   "execution_count": 2,
   "metadata": {},
   "outputs": [
    {
     "data": {
      "text/html": [
       "<div>\n",
       "<style scoped>\n",
       "    .dataframe tbody tr th:only-of-type {\n",
       "        vertical-align: middle;\n",
       "    }\n",
       "\n",
       "    .dataframe tbody tr th {\n",
       "        vertical-align: top;\n",
       "    }\n",
       "\n",
       "    .dataframe thead th {\n",
       "        text-align: right;\n",
       "    }\n",
       "</style>\n",
       "<table border=\"1\" class=\"dataframe\">\n",
       "  <thead>\n",
       "    <tr style=\"text-align: right;\">\n",
       "      <th></th>\n",
       "      <th>message_id</th>\n",
       "      <th>session_id</th>\n",
       "      <th>role</th>\n",
       "      <th>content</th>\n",
       "      <th>created_at</th>\n",
       "    </tr>\n",
       "  </thead>\n",
       "  <tbody>\n",
       "    <tr>\n",
       "      <th>0</th>\n",
       "      <td>c591e890-a4bd-4656-aabd-64aba1df8590</td>\n",
       "      <td>95bbb3dc-9356-4af8-b781-feda4afe65d5</td>\n",
       "      <td>user</td>\n",
       "      <td>hi sqlalchemy</td>\n",
       "      <td>2024-11-12 16:26:35.854878</td>\n",
       "    </tr>\n",
       "    <tr>\n",
       "      <th>1</th>\n",
       "      <td>319c5ed1-5995-4493-8d0c-ebf335e2cbb7</td>\n",
       "      <td>42e492e4-98f3-465f-8848-5afddd049d96</td>\n",
       "      <td>user</td>\n",
       "      <td>ok</td>\n",
       "      <td>2024-11-12 16:27:09.641403</td>\n",
       "    </tr>\n",
       "  </tbody>\n",
       "</table>\n",
       "</div>"
      ],
      "text/plain": [
       "                             message_id                            session_id  \\\n",
       "0  c591e890-a4bd-4656-aabd-64aba1df8590  95bbb3dc-9356-4af8-b781-feda4afe65d5   \n",
       "1  319c5ed1-5995-4493-8d0c-ebf335e2cbb7  42e492e4-98f3-465f-8848-5afddd049d96   \n",
       "\n",
       "   role        content                  created_at  \n",
       "0  user  hi sqlalchemy  2024-11-12 16:26:35.854878  \n",
       "1  user             ok  2024-11-12 16:27:09.641403  "
      ]
     },
     "execution_count": 2,
     "metadata": {},
     "output_type": "execute_result"
    }
   ],
   "source": [
    "import pandas as pd\n",
    "\n",
    "# Read the 'conversation' table into a pandas DataFrame\n",
    "df_conversation = pd.read_sql_query(\"SELECT * FROM conversations_history_table_sqlalchemy\", conn)\n",
    "\n",
    "# Display the first few rows of the DataFrame\n",
    "#print(df_conversation.head())\n",
    "df_conversation.head(10)\n"
   ]
  },
  {
   "cell_type": "code",
   "execution_count": 7,
   "metadata": {},
   "outputs": [],
   "source": [
    "df_conversation.to_csv('df_conversation.csv', index=False)\n"
   ]
  },
  {
   "cell_type": "code",
   "execution_count": 5,
   "metadata": {},
   "outputs": [
    {
     "data": {
      "text/html": [
       "<div>\n",
       "<style scoped>\n",
       "    .dataframe tbody tr th:only-of-type {\n",
       "        vertical-align: middle;\n",
       "    }\n",
       "\n",
       "    .dataframe tbody tr th {\n",
       "        vertical-align: top;\n",
       "    }\n",
       "\n",
       "    .dataframe thead th {\n",
       "        text-align: right;\n",
       "    }\n",
       "</style>\n",
       "<table border=\"1\" class=\"dataframe\">\n",
       "  <thead>\n",
       "    <tr style=\"text-align: right;\">\n",
       "      <th></th>\n",
       "      <th>id</th>\n",
       "      <th>session_id</th>\n",
       "      <th>role</th>\n",
       "      <th>content</th>\n",
       "      <th>created_at</th>\n",
       "    </tr>\n",
       "  </thead>\n",
       "  <tbody>\n",
       "    <tr>\n",
       "      <th>0</th>\n",
       "      <td>aa701f1c-fa8c-4976-ad6d-b0f87744f572</td>\n",
       "      <td>65c01756-9252-4a9d-913c-d12b3dc5310d</td>\n",
       "      <td>user</td>\n",
       "      <td>hI</td>\n",
       "      <td>2024-11-10 13:45:06</td>\n",
       "    </tr>\n",
       "    <tr>\n",
       "      <th>1</th>\n",
       "      <td>afe3566a-e586-4fdb-96e4-cd94a6f2e01d</td>\n",
       "      <td>65c01756-9252-4a9d-913c-d12b3dc5310d</td>\n",
       "      <td>assistant</td>\n",
       "      <td>HHello! What’s been going on that brings you h...</td>\n",
       "      <td>2024-11-10 13:45:49</td>\n",
       "    </tr>\n",
       "    <tr>\n",
       "      <th>2</th>\n",
       "      <td>ae6294e3-b127-4dcc-a7e7-bea9dbf8fada</td>\n",
       "      <td>65c01756-9252-4a9d-913c-d12b3dc5310d</td>\n",
       "      <td>assistant</td>\n",
       "      <td>It seems like things have become overwhelming...</td>\n",
       "      <td>2024-11-11 12:00:01</td>\n",
       "    </tr>\n",
       "    <tr>\n",
       "      <th>3</th>\n",
       "      <td>3886dbea-d45f-47d5-a575-d97938182a31</td>\n",
       "      <td>65c01756-9252-4a9d-913c-d12b3dc5310d</td>\n",
       "      <td>assistant</td>\n",
       "      <td>That sounds quite frustrating.I'd love to exp...</td>\n",
       "      <td>2024-11-11 12:02:13</td>\n",
       "    </tr>\n",
       "  </tbody>\n",
       "</table>\n",
       "</div>"
      ],
      "text/plain": [
       "                                     id                            session_id  \\\n",
       "0  aa701f1c-fa8c-4976-ad6d-b0f87744f572  65c01756-9252-4a9d-913c-d12b3dc5310d   \n",
       "1  afe3566a-e586-4fdb-96e4-cd94a6f2e01d  65c01756-9252-4a9d-913c-d12b3dc5310d   \n",
       "2  ae6294e3-b127-4dcc-a7e7-bea9dbf8fada  65c01756-9252-4a9d-913c-d12b3dc5310d   \n",
       "3  3886dbea-d45f-47d5-a575-d97938182a31  65c01756-9252-4a9d-913c-d12b3dc5310d   \n",
       "\n",
       "        role                                            content  \\\n",
       "0       user                                                 hI   \n",
       "1  assistant  HHello! What’s been going on that brings you h...   \n",
       "2  assistant   It seems like things have become overwhelming...   \n",
       "3  assistant   That sounds quite frustrating.I'd love to exp...   \n",
       "\n",
       "            created_at  \n",
       "0  2024-11-10 13:45:06  \n",
       "1  2024-11-10 13:45:49  \n",
       "2  2024-11-11 12:00:01  \n",
       "3  2024-11-11 12:02:13  "
      ]
     },
     "execution_count": 5,
     "metadata": {},
     "output_type": "execute_result"
    }
   ],
   "source": [
    "session_id = '65c01756-9252-4a9d-913c-d12b3dc5310d'\n",
    "\n",
    "df_conversation_filt = pd.read_sql_query(\n",
    "    f\"SELECT * FROM conversation_history_T WHERE session_id = '{session_id}'\", \n",
    "    conn\n",
    ")\n",
    "df_conversation_filt.head()"
   ]
  },
  {
   "cell_type": "code",
   "execution_count": 7,
   "metadata": {},
   "outputs": [],
   "source": [
    "db_path = 'data/chat_history.db'\n",
    "session_id = '65c01756-9252-4a9d-913c-d12b3dc5310d'"
   ]
  },
  {
   "cell_type": "code",
   "execution_count": 8,
   "metadata": {},
   "outputs": [],
   "source": [
    "def fetch_conversation_history(session_id, db_path):\n",
    "    conn = sqlite3.connect(db_path)\n",
    "    query = \"\"\"\n",
    "    SELECT role, content FROM conversation_history_T\n",
    "    WHERE session_id = ?\n",
    "    ORDER BY created_at ASC\n",
    "    \"\"\"\n",
    "    # Fetch all messages for the session\n",
    "    df_conversation_filt = pd.read_sql_query(query, conn, params=(session_id,))\n",
    "    conn.close()\n",
    "    \n",
    "    # Accumulate all messages into a single conversation history string\n",
    "    conversation = ''\n",
    "    for _, row in df_conversation_filt.iterrows():\n",
    "        role, content = row['role'], row['content']\n",
    "        message_text = f\"{role.capitalize()}: {content}\\n\"\n",
    "        conversation += message_text  # Accumulate in chronological order\n",
    "\n",
    "    return conversation"
   ]
  },
  {
   "cell_type": "code",
   "execution_count": 12,
   "metadata": {},
   "outputs": [
    {
     "data": {
      "text/plain": [
       "'User: hI\\nAssistant: HHello! What’s been going on that brings you here today?\\n'"
      ]
     },
     "execution_count": 12,
     "metadata": {},
     "output_type": "execute_result"
    }
   ],
   "source": [
    "fetch_conversation_history(session_id, db_path)"
   ]
  },
  {
   "cell_type": "code",
   "execution_count": 10,
   "metadata": {},
   "outputs": [
    {
     "data": {
      "text/plain": [
       "'User: hI\\nAssistant: HHello! What’s been going on that brings you here today?\\n'"
      ]
     },
     "execution_count": 10,
     "metadata": {},
     "output_type": "execute_result"
    }
   ],
   "source": [
    "fetch_conversation_history(session_id, db_path)"
   ]
  },
  {
   "cell_type": "code",
   "execution_count": 5,
   "metadata": {},
   "outputs": [],
   "source": [
    "# (Optional) Close the cursor if you're done with it\n",
    "cursor.close()\n"
   ]
  }
 ],
 "metadata": {
  "kernelspec": {
   "display_name": "mymodal",
   "language": "python",
   "name": "python3"
  },
  "language_info": {
   "codemirror_mode": {
    "name": "ipython",
    "version": 3
   },
   "file_extension": ".py",
   "mimetype": "text/x-python",
   "name": "python",
   "nbconvert_exporter": "python",
   "pygments_lexer": "ipython3",
   "version": "3.12.4"
  }
 },
 "nbformat": 4,
 "nbformat_minor": 2
}
